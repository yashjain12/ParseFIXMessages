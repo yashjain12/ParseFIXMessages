{
 "cells": [
  {
   "cell_type": "code",
   "execution_count": 2,
   "id": "e3d4fd2d",
   "metadata": {},
   "outputs": [
    {
     "data": {
      "text/plain": [
       "{'02:34.713753 : 8': 'FIX.4.2',\n",
       " '9': '330',\n",
       " '35': '8',\n",
       " '34': '1962',\n",
       " '49': 'ID1',\n",
       " '52': '20250910-04:02:34.713',\n",
       " '56': 'ID2',\n",
       " '1': 'ID6',\n",
       " '6': '32.98',\n",
       " '11': 'ID3',\n",
       " '14': '10',\n",
       " '17': 'ID5',\n",
       " '20': '0',\n",
       " '30': 'ID7',\n",
       " '31': '32.98',\n",
       " '32': '10',\n",
       " '37': 'ID4',\n",
       " '38': '10',\n",
       " '39': '2',\n",
       " '40': '2',\n",
       " '44': '32.98',\n",
       " '54': '2',\n",
       " '55': 'SMCX',\n",
       " '59': '0',\n",
       " '60': '20250910-04:02:34.713',\n",
       " '76': 'ID8',\n",
       " '150': '2',\n",
       " '151': '0',\n",
       " '10': '235'}"
      ]
     },
     "execution_count": 2,
     "metadata": {},
     "output_type": "execute_result"
    }
   ],
   "source": [
    "#Import standard Python Libraries\n",
    "import re\n",
    "import pandas as pd\n",
    "from datetime import datetime\n",
    "\n",
    "#Parameters\n",
    "input_fix_file = \"trading.fix\"\n",
    "output_csv_file = \"parsed_orders.csv\"\n",
    "\n",
    "def parse_fix_line(line: str):\n",
    "    \"\"\"Converts FIX line to a dictionary\n",
    "    \n",
    "    Args:\n",
    "        line: str\n",
    "        \n",
    "    Returns:\n",
    "        Dictionary mapping\n",
    "        \n",
    "    Raises:\n",
    "        IndexError: If input line isn't able to be split\n",
    "    \"\"\"\n",
    "\n",
    "    try:\n",
    "        msg = line.split(\":\", 1)[1]\n",
    "    except IndexError:\n",
    "        return {}\n",
    "    \n",
    "    parts = msg.strip().split('\\x01')\n",
    "    fix_dict = {}\n",
    "    for p in parts:\n",
    "        if \"=\" in p:\n",
    "            tag, val = p.split(\"=\", 1)\n",
    "            fix_dict[tag] = val\n",
    "    return fix_dict\n",
    "\n",
    "with open(input_fix_file, \"r\") as f:\n",
    "    lines = f.readlines()\n",
    "orders = {}\n",
    "fills = []\n",
    "for line in lines[:1]:\n",
    "    fix = parse_fix_line(line)\n",
    "fix"
   ]
  },
  {
   "cell_type": "code",
   "execution_count": 14,
   "id": "333750c9",
   "metadata": {},
   "outputs": [
    {
     "name": "stdout",
     "output_type": "stream",
     "text": [
      "Parsed rows: 10\n"
     ]
    },
    {
     "data": {
      "text/html": [
       "<div>\n",
       "<style scoped>\n",
       "    .dataframe tbody tr th:only-of-type {\n",
       "        vertical-align: middle;\n",
       "    }\n",
       "\n",
       "    .dataframe tbody tr th {\n",
       "        vertical-align: top;\n",
       "    }\n",
       "\n",
       "    .dataframe thead th {\n",
       "        text-align: right;\n",
       "    }\n",
       "</style>\n",
       "<table border=\"1\" class=\"dataframe\">\n",
       "  <thead>\n",
       "    <tr style=\"text-align: right;\">\n",
       "      <th></th>\n",
       "      <th>OrderID</th>\n",
       "      <th>OrderTransactTime</th>\n",
       "      <th>ExecutionTransactTime</th>\n",
       "      <th>Symbol</th>\n",
       "      <th>Side</th>\n",
       "      <th>OrderQty</th>\n",
       "      <th>LimitPrice</th>\n",
       "      <th>AvgPx</th>\n",
       "      <th>LastMkt</th>\n",
       "    </tr>\n",
       "  </thead>\n",
       "  <tbody>\n",
       "    <tr>\n",
       "      <th>0</th>\n",
       "      <td>ID1542</td>\n",
       "      <td>20250910-08:00:00.377</td>\n",
       "      <td>20250910-08:00:00.509</td>\n",
       "      <td>YANG</td>\n",
       "      <td>1</td>\n",
       "      <td>27</td>\n",
       "      <td>23.7</td>\n",
       "      <td>23.170000</td>\n",
       "      <td>ID1516</td>\n",
       "    </tr>\n",
       "    <tr>\n",
       "      <th>1</th>\n",
       "      <td>ID1572</td>\n",
       "      <td>20250910-08:00:00.450</td>\n",
       "      <td>20250910-08:00:00.692</td>\n",
       "      <td>IREN</td>\n",
       "      <td>1</td>\n",
       "      <td>30</td>\n",
       "      <td>31.29</td>\n",
       "      <td>31.290000</td>\n",
       "      <td>ID1516</td>\n",
       "    </tr>\n",
       "    <tr>\n",
       "      <th>2</th>\n",
       "      <td>ID1632</td>\n",
       "      <td>20250910-08:00:00.747</td>\n",
       "      <td>20250910-08:00:00.982</td>\n",
       "      <td>DJT</td>\n",
       "      <td>2</td>\n",
       "      <td>53</td>\n",
       "      <td>16.91</td>\n",
       "      <td>16.910000</td>\n",
       "      <td>ID1516</td>\n",
       "    </tr>\n",
       "    <tr>\n",
       "      <th>3</th>\n",
       "      <td>ID1711</td>\n",
       "      <td>20250910-08:00:00.866</td>\n",
       "      <td>20250910-08:00:01.006</td>\n",
       "      <td>AMD</td>\n",
       "      <td>2</td>\n",
       "      <td>80</td>\n",
       "      <td>159.56</td>\n",
       "      <td>160.110000</td>\n",
       "      <td>ID1516</td>\n",
       "    </tr>\n",
       "    <tr>\n",
       "      <th>4</th>\n",
       "      <td>ID1732</td>\n",
       "      <td>20250910-08:00:00.920</td>\n",
       "      <td>20250910-08:00:01.042</td>\n",
       "      <td>SOFI</td>\n",
       "      <td>2</td>\n",
       "      <td>4</td>\n",
       "      <td>25.86</td>\n",
       "      <td>25.890000</td>\n",
       "      <td>ID1516</td>\n",
       "    </tr>\n",
       "  </tbody>\n",
       "</table>\n",
       "</div>"
      ],
      "text/plain": [
       "  OrderID      OrderTransactTime  ExecutionTransactTime Symbol Side OrderQty  \\\n",
       "0  ID1542  20250910-08:00:00.377  20250910-08:00:00.509   YANG    1       27   \n",
       "1  ID1572  20250910-08:00:00.450  20250910-08:00:00.692   IREN    1       30   \n",
       "2  ID1632  20250910-08:00:00.747  20250910-08:00:00.982    DJT    2       53   \n",
       "3  ID1711  20250910-08:00:00.866  20250910-08:00:01.006    AMD    2       80   \n",
       "4  ID1732  20250910-08:00:00.920  20250910-08:00:01.042   SOFI    2        4   \n",
       "\n",
       "  LimitPrice       AvgPx LastMkt  \n",
       "0       23.7   23.170000  ID1516  \n",
       "1      31.29   31.290000  ID1516  \n",
       "2      16.91   16.910000  ID1516  \n",
       "3     159.56  160.110000  ID1516  \n",
       "4      25.86   25.890000  ID1516  "
      ]
     },
     "metadata": {},
     "output_type": "display_data"
    },
    {
     "name": "stdout",
     "output_type": "stream",
     "text": [
      "CSV saved to parsed_orders.csv\n"
     ]
    }
   ],
   "source": [
    "with open(input_fix_file, \"r\") as f:\n",
    "    lines = f.readlines()\n",
    "orders = {}\n",
    "fills = []\n",
    "for line in lines:\n",
    "    fix = parse_fix_line(line)\n",
    "\n",
    "    msg_type = fix.get(\"35\")\n",
    "\n",
    "    #Checks for New Order Single(D) and Limit Order (2)\n",
    "    if msg_type == 'D' and fix['40'] == '2':\n",
    "        client_order_id = fix['11']\n",
    "        if client_order_id:\n",
    "            orders[client_order_id] = {\n",
    "                'OrderID': client_order_id,\n",
    "                'OrderTransactTime': fix['60'],\n",
    "                'Symbol': fix['55'],\n",
    "                'Side': fix['54'],\n",
    "                'OrderQty': fix['38'],\n",
    "                'LimitPrice': fix['44'],\n",
    "            }\n",
    "\n",
    "    #Checks for MsgType (35) = Execution Report (8)\n",
    "    elif msg_type == '8':\n",
    "        # Check for Fully Filled limit orders, ignore partially filled limit orders\n",
    "        if fix['150'] == '2' and fix['39'] == '2' and fix['40'] == '2':\n",
    "            client_order_id = fix['11']\n",
    "            if client_order_id in orders:\n",
    "                order = orders[client_order_id]\n",
    "                fills.append({\n",
    "                    'OrderID': client_order_id,\n",
    "                    'OrderTransactTime': order['OrderTransactTime'],\n",
    "                    'ExecutionTransactTime': fix['60'],\n",
    "                    'Symbol': order['Symbol'],\n",
    "                    'Side': order['Side'],\n",
    "                    'OrderQty': order['OrderQty'],\n",
    "                    'LimitPrice': order['LimitPrice'],\n",
    "                    'AvgPx': fix['6'],\n",
    "                    'LastMkt': fix['30'],\n",
    "                })\n",
    "\n",
    "#Create dataframe of filled orders\n",
    "filled_orders = pd.DataFrame(fills)\n",
    "print(\"Parsed rows:\", len(filled_orders))\n",
    "display(filled_orders.head())\n",
    "\n",
    "#Save to CSV file\n",
    "filled_orders.to_csv(output_csv_file, index=False)\n",
    "print(f\"CSV saved to {output_csv_file}\")"
   ]
  },
  {
   "cell_type": "code",
   "execution_count": null,
   "id": "51b44372",
   "metadata": {},
   "outputs": [
    {
     "data": {
      "text/plain": [
       "'8'"
      ]
     },
     "execution_count": 5,
     "metadata": {},
     "output_type": "execute_result"
    }
   ],
   "source": [
    "msg_type = fix['35']\n",
    "#Checks for New Order Single (D)\n",
    "f msg_type == \"D\" and fix.get(\"40\") == \"2\":  # Limit orders only\n",
    "        clid = fix.get(\"11\")\n",
    "        if clid:\n",
    "            orders[clid] = {\n",
    "                \"OrderID\": clid,\n",
    "                \"OrderTransactTime\": fix.get(\"60\"),\n",
    "                \"Symbol\": fix.get(\"55\"),\n",
    "                \"Side\": fix.get(\"54\"),\n",
    "                \"OrderQty\": fix.get(\"38\"),\n",
    "                \"LimitPrice\": fix.get(\"44\"),\n",
    "            }"
   ]
  },
  {
   "cell_type": "code",
   "execution_count": 6,
   "id": "0dbdf4ef",
   "metadata": {},
   "outputs": [
    {
     "data": {
      "text/plain": [
       "'ID2052'"
      ]
     },
     "execution_count": 6,
     "metadata": {},
     "output_type": "execute_result"
    }
   ],
   "source": [
    "fix.get('11')"
   ]
  },
  {
   "cell_type": "code",
   "execution_count": null,
   "id": "fc9498f9",
   "metadata": {},
   "outputs": [],
   "source": []
  }
 ],
 "metadata": {
  "kernelspec": {
   "display_name": "Python 3",
   "language": "python",
   "name": "python3"
  },
  "language_info": {
   "codemirror_mode": {
    "name": "ipython",
    "version": 3
   },
   "file_extension": ".py",
   "mimetype": "text/x-python",
   "name": "python",
   "nbconvert_exporter": "python",
   "pygments_lexer": "ipython3",
   "version": "3.11.5"
  }
 },
 "nbformat": 4,
 "nbformat_minor": 5
}
